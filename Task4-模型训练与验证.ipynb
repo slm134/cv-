{
 "cells": [
  {
   "cell_type": "markdown",
   "metadata": {},
   "source": [
    "# Task4模型训练与验证"
   ]
  },
  {
   "cell_type": "markdown",
   "metadata": {},
   "source": [
    "一个成熟合格的深度学习训练流程："
   ]
  },
  {
   "cell_type": "markdown",
   "metadata": {},
   "source": [
    "* 在训练集上进行训练，并在验证集上进行验证；\n",
    "* 模型可以保存最优的权重，并读取权重；\n",
    "* 记录下训练集和验证集的精度，便于调参。"
   ]
  },
  {
   "cell_type": "markdown",
   "metadata": {},
   "source": [
    "## 模型训练与验证"
   ]
  },
  {
   "cell_type": "markdown",
   "metadata": {},
   "source": [
    "本章由构建验证集、模型训练和验证、模型保存与加载、模型调参四部分组成。本章也将结合Pytorch代码进行讲解。"
   ]
  },
  {
   "cell_type": "markdown",
   "metadata": {},
   "source": [
    "### 学习目标"
   ]
  },
  {
   "cell_type": "markdown",
   "metadata": {},
   "source": [
    "* 理解验证集的作用，并使用训练集和验证集完成训练\n",
    "* 学会使用Pytorch环境下的模型读取和加载，并了解调参流程"
   ]
  },
  {
   "cell_type": "markdown",
   "metadata": {},
   "source": [
    "## 一、构造验证集"
   ]
  },
  {
   "cell_type": "markdown",
   "metadata": {},
   "source": [
    "机器学习模型（特别是深度学习模型）的训练过程中，模型容易过拟合。模型的训练误差逐渐下降，但测试误差可能会反弹。<br>"
   ]
  },
  {
   "cell_type": "markdown",
   "metadata": {},
   "source": [
    "* 过拟合（overfitting）：训练过程中，模型不仅能够对训练样本准确分类，可能还记住了训练样本的多余特征。\n",
    "* 欠拟合（underfitting)：拟合程度较低。"
   ]
  },
  {
   "cell_type": "markdown",
   "metadata": {},
   "source": [
    "导致模型过拟合的可能原因：<br>\n",
    "模型复杂度（Model Complexity）太高，导致模型记住了训练样本的多余细节。"
   ]
  },
  {
   "cell_type": "markdown",
   "metadata": {},
   "source": [
    "解决方法：<br>\n",
    "构建一个与测试集尽可能分布一致的样本集（可称为验证集），在训练过程中不断验证模型在验证集上的精度，以此来控制模型的训练。"
   ]
  },
  {
   "cell_type": "markdown",
   "metadata": {},
   "source": [
    "在给定赛题中，赛题方会给定训练集和测试集两部分数据。<br>\n",
    "参赛者在训练集上构建模型，在测试集上验证模型的泛化能力。<br>\n",
    "因此参赛者可以通过模型子在测试集的预测结果，验证模型的泛化能力。同时参赛方也会限制提交的次数限制，避免参赛选手“刷分”。"
   ]
  },
  {
   "cell_type": "markdown",
   "metadata": {},
   "source": [
    "在一般情况下，参赛选手也可以在本地划分出一个验证集，进行本地验证。验证集和测试集的作用如下：\n",
    "* 训练集（Train Set）：模型用于训练和调整模型参数；\n",
    "* 验证集（Validation Set）：用于验证模型精度和调整模型超参数；\n",
    "* 测试集（Test Set）：验证模型的泛化能力。"
   ]
  },
  {
   "cell_type": "markdown",
   "metadata": {},
   "source": [
    "验证集的划分方法：\n",
    "* 留出法（Hold-out）\n",
    "直接将训练集划分为两部分，训练集和验证集。<br>\n",
    "优点：简单直接<br>\n",
    "缺点：只得到一份验证集，有可能导致模型在验证集上过拟合。<br>\n",
    "应用场景：数据量比较大的情况下适用。\n",
    "* 交叉验证法（Cross Validation, CV）\n",
    "将训练集划分为K份，将其中的K-1份作为训练集，剩下的1份作为验证集，循环K次训练。<br>\n",
    "这种方法使得所有的训练样本都能成为验证集的一部分。最终模型验证精度是K份平均得到。<br>\n",
    "优点：验证集精度可靠，训练K次可以得到K个有多样性差异的模型<br>\n",
    "缺点：CV验证的缺点是需要训练K次，不适合数据量很大的情况。\n",
    "* 自助采样法（BoostStrap）\n",
    "通过有放回的采样方法得到训练集和验证集。<br>\n",
    "每次的训练集和验证集都是有区别的。这种划分方法一般适用于数据量较小的情况。<br>\n",
    "现有的数据比赛中一般采用的划分方法是留出法和交叉验证法。<br>\n",
    "这里的分布一般指的是与标签相关的统计分布，比如在分类任务中“分布”指的是标签的类别分布。训练集-验证集-测试集的类别分布情况应该大体一致；如果标签是带有时序信息，则验证集与测试集的时间间隔应该保持一致。"
   ]
  },
  {
   "cell_type": "markdown",
   "metadata": {},
   "source": [
    "## 模型训练和验证"
   ]
  },
  {
   "cell_type": "markdown",
   "metadata": {},
   "source": [
    "使用Pytorch完成CNN的训练和验证过程。步骤如下：\n",
    "* 构造训练集和验证集\n",
    "* 每轮进行训练和验证，并根据最优验证集精度保存模型"
   ]
  },
  {
   "cell_type": "code",
   "execution_count": null,
   "metadata": {},
   "outputs": [],
   "source": [
    "import torch\n",
    "train_loader = torch.utils.data.DataLoader(\n",
    "    train_dataset,\n",
    "    batch_size=10,\n",
    "    shuffle=True,\n",
    "    num_workers=10)\n",
    "val_loader = torch.utils.data.DataLoader(\n",
    "    val_dataset,\n",
    "    batch_size=10,\n",
    "    shuffle=False,\n",
    "    num_workers=10,)\n",
    "model = SVHN_Model1()\n",
    "criterion = nn.CrossEntropyLoss(size_average=False)\n",
    "optimizer = torch.optim.Adam(model.parameters(), 0.001)\n",
    "best_loss = 1000.0\n",
    "for epoch in range(20):\n",
    "    print('Epoch:', epoch)\n",
    "    train(train_loader, model, criterion, optimizer, epoch)\n",
    "    val_loss = validate(val_loader, model, criterion)\n",
    "    \n",
    "    # 记录下验证集精度\n",
    "    if val_loss < best_loss:\n",
    "        best_loss = val_loss\n",
    "        torch.save(model.state_dict(), './model.pt')"
   ]
  },
  {
   "cell_type": "markdown",
   "metadata": {},
   "source": [
    "## 模型保存与加载"
   ]
  },
  {
   "cell_type": "markdown",
   "metadata": {},
   "source": [
    "在Pytorch中模型的保存和加载一般是保存和加载模型参数："
   ]
  },
  {
   "cell_type": "code",
   "execution_count": null,
   "metadata": {},
   "outputs": [],
   "source": [
    "torch.save(model_object.state_dict(), 'model.pt')\n",
    "model.load_state_dict(torch.load('model.pt'))"
   ]
  },
  {
   "cell_type": "markdown",
   "metadata": {},
   "source": [
    "## 模型调参技巧"
   ]
  },
  {
   "cell_type": "markdown",
   "metadata": {},
   "source": [
    "http://karpathy.github.io/2019/04/25/recipe/"
   ]
  }
 ],
 "metadata": {
  "kernelspec": {
   "display_name": "Python 3",
   "language": "python",
   "name": "python3"
  },
  "language_info": {
   "codemirror_mode": {
    "name": "ipython",
    "version": 3
   },
   "file_extension": ".py",
   "mimetype": "text/x-python",
   "name": "python",
   "nbconvert_exporter": "python",
   "pygments_lexer": "ipython3",
   "version": "3.7.6"
  }
 },
 "nbformat": 4,
 "nbformat_minor": 4
}
