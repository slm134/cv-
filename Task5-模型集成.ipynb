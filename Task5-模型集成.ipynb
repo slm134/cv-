{
 "cells": [
  {
   "cell_type": "markdown",
   "metadata": {},
   "source": [
    "# Task5 模型集成"
   ]
  },
  {
   "cell_type": "markdown",
   "metadata": {},
   "source": [
    "## 模型集成"
   ]
  },
  {
   "cell_type": "markdown",
   "metadata": {},
   "source": [
    "知识点：集成学习方法、深度学习中的集成学习和结果后处理思路"
   ]
  },
  {
   "cell_type": "markdown",
   "metadata": {},
   "source": [
    "## 集成学习方法："
   ]
  },
  {
   "cell_type": "markdown",
   "metadata": {},
   "source": [
    "机器学习中的集成学习可以在一定程度上提高预测精度。常见的集成学习方法有Stacking、Bagging和Boosting,同时这些集成学习方法与具体验证集划分联系紧密。"
   ]
  },
  {
   "cell_type": "markdown",
   "metadata": {},
   "source": [
    "若采用了十则交叉验证法，训练得到10个CNN模型后，可以采用如下方法进行集成：\n",
    "* 对预测的结果的概率值进行平均，然后解码为具体字符。\n",
    "* 对预测的字符进行投票，得到最终字符。"
   ]
  },
  {
   "cell_type": "markdown",
   "metadata": {},
   "source": [
    "## 深度学习中的集成学习："
   ]
  },
  {
   "cell_type": "markdown",
   "metadata": {},
   "source": [
    "### 1. Dropout"
   ]
  },
  {
   "cell_type": "markdown",
   "metadata": {},
   "source": [
    "Dropout在每个训练批次中，随机让一部分节点停止工作，同时在预测过程中让所有节点都起作用。具体代码如下，参数为去掉节点的比例。"
   ]
  },
  {
   "cell_type": "code",
   "execution_count": null,
   "metadata": {},
   "outputs": [],
   "source": [
    "nn.Dropout()"
   ]
  },
  {
   "cell_type": "markdown",
   "metadata": {},
   "source": [
    "### 2. TTA"
   ]
  },
  {
   "cell_type": "markdown",
   "metadata": {},
   "source": [
    "测试集数据扩增（Test Time Augmentation,简称TTA）也是常用的集成学习技巧，数据扩增不仅可以在训练时进行，还可以在预测时进行，对同一个样本进行三次预测，然后对三次结果取平均。"
   ]
  },
  {
   "cell_type": "markdown",
   "metadata": {},
   "source": [
    "### 3. Snapshot"
   ]
  },
  {
   "cell_type": "markdown",
   "metadata": {},
   "source": [
    "在十则交叉验证中，我们可以训练10个CNN将多个模型的预测结果取平均。若只训练一个CNN模型，集成模型的方法如下："
   ]
  },
  {
   "cell_type": "markdown",
   "metadata": {},
   "source": [
    "Snapshot Ensembles论文中，作者使用cyclicar learning rate训练模型，并保存精度比较好的一些checkpoint,最后将多个checkpoint进行模型集成。<br>\n",
    "由于在cyclical learning rate中学习率的变化有周期性变大和减少的行为，因此CNN模型很有可能在跳出局部最优进入另一个局部最优。此种方法在一定程度上提高模型精度，但需要更长的训练时间。"
   ]
  }
 ],
 "metadata": {
  "kernelspec": {
   "display_name": "Python 3",
   "language": "python",
   "name": "python3"
  },
  "language_info": {
   "codemirror_mode": {
    "name": "ipython",
    "version": 3
   },
   "file_extension": ".py",
   "mimetype": "text/x-python",
   "name": "python",
   "nbconvert_exporter": "python",
   "pygments_lexer": "ipython3",
   "version": "3.7.6"
  }
 },
 "nbformat": 4,
 "nbformat_minor": 4
}
